{
 "cells": [
  {
   "cell_type": "code",
   "execution_count": 1,
   "metadata": {},
   "outputs": [],
   "source": [
    "import pandas as pd\n",
    "import numpy as np\n",
    "import matplotlib.pyplot as plt\n",
    "\n",
    "%matplotlib inline"
   ]
  },
  {
   "attachments": {},
   "cell_type": "markdown",
   "metadata": {},
   "source": [
    "PLAN\n",
    "1. make days since user account creation until post\n",
    "2. title length\n",
    "3. body legnth\n",
    "4. num tags"
   ]
  },
  {
   "cell_type": "code",
   "execution_count": 112,
   "metadata": {},
   "outputs": [
    {
     "data": {
      "text/html": [
       "<div>\n",
       "<style scoped>\n",
       "    .dataframe tbody tr th:only-of-type {\n",
       "        vertical-align: middle;\n",
       "    }\n",
       "\n",
       "    .dataframe tbody tr th {\n",
       "        vertical-align: top;\n",
       "    }\n",
       "\n",
       "    .dataframe thead th {\n",
       "        text-align: right;\n",
       "    }\n",
       "</style>\n",
       "<table border=\"1\" class=\"dataframe\">\n",
       "  <thead>\n",
       "    <tr style=\"text-align: right;\">\n",
       "      <th></th>\n",
       "      <th>PostId</th>\n",
       "      <th>PostCreationDate</th>\n",
       "      <th>OwnerUserId</th>\n",
       "      <th>OwnerCreationDate</th>\n",
       "      <th>ReputationAtPostCreation</th>\n",
       "      <th>OwnerUndeletedAnswerCountAtPostTime</th>\n",
       "      <th>Title</th>\n",
       "      <th>BodyMarkdown</th>\n",
       "      <th>Tag1</th>\n",
       "      <th>Tag2</th>\n",
       "      <th>Tag3</th>\n",
       "      <th>Tag4</th>\n",
       "      <th>Tag5</th>\n",
       "      <th>PostClosedDate</th>\n",
       "      <th>OpenStatus</th>\n",
       "    </tr>\n",
       "  </thead>\n",
       "  <tbody>\n",
       "    <tr>\n",
       "      <th>0</th>\n",
       "      <td>6046168</td>\n",
       "      <td>05/18/2011 14:14:05</td>\n",
       "      <td>543315</td>\n",
       "      <td>09/17/2010 10:15:06</td>\n",
       "      <td>1</td>\n",
       "      <td>2</td>\n",
       "      <td>For Mongodb is it better to reference an objec...</td>\n",
       "      <td>I am building a corpus of indexed sentences in...</td>\n",
       "      <td>mongodb</td>\n",
       "      <td>NaN</td>\n",
       "      <td>NaN</td>\n",
       "      <td>NaN</td>\n",
       "      <td>NaN</td>\n",
       "      <td>NaN</td>\n",
       "      <td>open</td>\n",
       "    </tr>\n",
       "    <tr>\n",
       "      <th>1</th>\n",
       "      <td>4873911</td>\n",
       "      <td>02/02/2011 11:30:10</td>\n",
       "      <td>465076</td>\n",
       "      <td>10/03/2010 09:30:58</td>\n",
       "      <td>192</td>\n",
       "      <td>24</td>\n",
       "      <td>How to insert schemalocation in a xml document...</td>\n",
       "      <td>i create a xml document with JAXP and search a...</td>\n",
       "      <td>dom</td>\n",
       "      <td>xsd</td>\n",
       "      <td>jaxp</td>\n",
       "      <td>NaN</td>\n",
       "      <td>NaN</td>\n",
       "      <td>NaN</td>\n",
       "      <td>open</td>\n",
       "    </tr>\n",
       "    <tr>\n",
       "      <th>2</th>\n",
       "      <td>3311559</td>\n",
       "      <td>07/22/2010 17:21:54</td>\n",
       "      <td>406143</td>\n",
       "      <td>07/22/2010 16:58:20</td>\n",
       "      <td>1</td>\n",
       "      <td>0</td>\n",
       "      <td>Too many lookup tables</td>\n",
       "      <td>What are the adverse effects of having too man...</td>\n",
       "      <td>sql-server</td>\n",
       "      <td>database-design</td>\n",
       "      <td>enums</td>\n",
       "      <td>NaN</td>\n",
       "      <td>NaN</td>\n",
       "      <td>NaN</td>\n",
       "      <td>open</td>\n",
       "    </tr>\n",
       "    <tr>\n",
       "      <th>3</th>\n",
       "      <td>9990413</td>\n",
       "      <td>04/03/2012 09:18:39</td>\n",
       "      <td>851755</td>\n",
       "      <td>07/19/2011 10:22:40</td>\n",
       "      <td>4</td>\n",
       "      <td>1</td>\n",
       "      <td>What is this PHP code in VB.net</td>\n",
       "      <td>I am looking for the vb.net equivalent of this...</td>\n",
       "      <td>php</td>\n",
       "      <td>vb.net</td>\n",
       "      <td>NaN</td>\n",
       "      <td>NaN</td>\n",
       "      <td>NaN</td>\n",
       "      <td>04/15/2012 21:12:48</td>\n",
       "      <td>too localized</td>\n",
       "    </tr>\n",
       "    <tr>\n",
       "      <th>4</th>\n",
       "      <td>10421966</td>\n",
       "      <td>05/02/2012 21:25:01</td>\n",
       "      <td>603588</td>\n",
       "      <td>02/04/2011 18:05:34</td>\n",
       "      <td>334</td>\n",
       "      <td>14</td>\n",
       "      <td>Spring-Data mongodb querying multiple classes ...</td>\n",
       "      <td>With Spring-Data, you can use the @Document an...</td>\n",
       "      <td>mongodb</td>\n",
       "      <td>spring-data</td>\n",
       "      <td>NaN</td>\n",
       "      <td>NaN</td>\n",
       "      <td>NaN</td>\n",
       "      <td>NaN</td>\n",
       "      <td>open</td>\n",
       "    </tr>\n",
       "  </tbody>\n",
       "</table>\n",
       "</div>"
      ],
      "text/plain": [
       "     PostId     PostCreationDate  OwnerUserId    OwnerCreationDate  \\\n",
       "0   6046168  05/18/2011 14:14:05       543315  09/17/2010 10:15:06   \n",
       "1   4873911  02/02/2011 11:30:10       465076  10/03/2010 09:30:58   \n",
       "2   3311559  07/22/2010 17:21:54       406143  07/22/2010 16:58:20   \n",
       "3   9990413  04/03/2012 09:18:39       851755  07/19/2011 10:22:40   \n",
       "4  10421966  05/02/2012 21:25:01       603588  02/04/2011 18:05:34   \n",
       "\n",
       "   ReputationAtPostCreation  OwnerUndeletedAnswerCountAtPostTime  \\\n",
       "0                         1                                    2   \n",
       "1                       192                                   24   \n",
       "2                         1                                    0   \n",
       "3                         4                                    1   \n",
       "4                       334                                   14   \n",
       "\n",
       "                                               Title  \\\n",
       "0  For Mongodb is it better to reference an objec...   \n",
       "1  How to insert schemalocation in a xml document...   \n",
       "2                            Too many lookup tables    \n",
       "3                    What is this PHP code in VB.net   \n",
       "4  Spring-Data mongodb querying multiple classes ...   \n",
       "\n",
       "                                        BodyMarkdown        Tag1  \\\n",
       "0  I am building a corpus of indexed sentences in...     mongodb   \n",
       "1  i create a xml document with JAXP and search a...         dom   \n",
       "2  What are the adverse effects of having too man...  sql-server   \n",
       "3  I am looking for the vb.net equivalent of this...         php   \n",
       "4  With Spring-Data, you can use the @Document an...     mongodb   \n",
       "\n",
       "              Tag2   Tag3 Tag4 Tag5       PostClosedDate     OpenStatus  \n",
       "0              NaN    NaN  NaN  NaN                  NaN           open  \n",
       "1              xsd   jaxp  NaN  NaN                  NaN           open  \n",
       "2  database-design  enums  NaN  NaN                  NaN           open  \n",
       "3           vb.net    NaN  NaN  NaN  04/15/2012 21:12:48  too localized  \n",
       "4      spring-data    NaN  NaN  NaN                  NaN           open  "
      ]
     },
     "execution_count": 112,
     "metadata": {},
     "output_type": "execute_result"
    }
   ],
   "source": [
    "df = pd.read_csv('data/train-sample.csv')\n",
    "df.head()"
   ]
  },
  {
   "cell_type": "markdown",
   "metadata": {},
   "source": [
    "# Target"
   ]
  },
  {
   "cell_type": "code",
   "execution_count": 5,
   "metadata": {},
   "outputs": [
    {
     "data": {
      "text/plain": [
       "open                   70136\n",
       "not a real question    30789\n",
       "off topic              17530\n",
       "not constructive       15659\n",
       "too localized           6158\n",
       "Name: OpenStatus, dtype: int64"
      ]
     },
     "execution_count": 5,
     "metadata": {},
     "output_type": "execute_result"
    }
   ],
   "source": [
    "df.OpenStatus.value_counts()"
   ]
  },
  {
   "attachments": {},
   "cell_type": "markdown",
   "metadata": {},
   "source": [
    "# Tags\n",
    " - 18308 unique tags"
   ]
  },
  {
   "cell_type": "code",
   "execution_count": 43,
   "metadata": {},
   "outputs": [
    {
     "data": {
      "text/plain": [
       "2    37120\n",
       "3    36276\n",
       "1    27232\n",
       "4    23939\n",
       "5    15701\n",
       "0        4\n",
       "Name: numTags, dtype: int64"
      ]
     },
     "execution_count": 43,
     "metadata": {},
     "output_type": "execute_result"
    }
   ],
   "source": [
    "df['numTags'] = df[['Tag1','Tag2','Tag3','Tag4','Tag5']].transpose().notna().sum()\n",
    "df.numTags.value_counts()"
   ]
  },
  {
   "attachments": {},
   "cell_type": "markdown",
   "metadata": {},
   "source": [
    "# AccountAge\n",
    "Days Since Owner Account Creation Until Post"
   ]
  },
  {
   "cell_type": "code",
   "execution_count": 65,
   "metadata": {},
   "outputs": [
    {
     "data": {
      "text/plain": [
       "count    139999.000000\n",
       "mean        216.122865\n",
       "std         270.172990\n",
       "min           0.000000\n",
       "25%           7.000000\n",
       "50%         103.000000\n",
       "75%         335.000000\n",
       "max        1437.000000\n",
       "Name: AccountAge, dtype: float64"
      ]
     },
     "execution_count": 65,
     "metadata": {},
     "output_type": "execute_result"
    }
   ],
   "source": [
    "df[['PostCreationDate','OwnerCreationDate']] = df[['PostCreationDate','OwnerCreationDate']].apply(pd.to_datetime)\n",
    "df['AccountAge'] = (df['PostCreationDate'] - df['OwnerCreationDate']).dt.days\n",
    "# drop 60 negative account ages\n",
    "df = df.loc[df.AccountAge >= 0]\n",
    "df.AccountAge.describe()"
   ]
  },
  {
   "cell_type": "markdown",
   "metadata": {},
   "source": [
    "# Reputation"
   ]
  },
  {
   "cell_type": "code",
   "execution_count": 64,
   "metadata": {},
   "outputs": [
    {
     "data": {
      "text/plain": [
       "count    139999.000000\n",
       "mean        507.606240\n",
       "std        2498.234813\n",
       "min           1.000000\n",
       "25%           1.000000\n",
       "50%          36.000000\n",
       "75%         269.000000\n",
       "max      209631.000000\n",
       "Name: ReputationAtPostCreation, dtype: float64"
      ]
     },
     "execution_count": 64,
     "metadata": {},
     "output_type": "execute_result"
    }
   ],
   "source": [
    "# drop 213 impossible reputation rows < 1\n",
    "df = df.loc[df.ReputationAtPostCreation > 0]\n",
    "df.ReputationAtPostCreation.describe()"
   ]
  },
  {
   "attachments": {},
   "cell_type": "markdown",
   "metadata": {},
   "source": [
    "# Owner Answer Contibutions\n",
    "21814 outliers above (20) contributions at the time of post"
   ]
  },
  {
   "cell_type": "code",
   "execution_count": 94,
   "metadata": {},
   "outputs": [
    {
     "data": {
      "text/plain": [
       "count    139999.000000\n",
       "mean         19.503746\n",
       "std          90.204394\n",
       "min           0.000000\n",
       "25%           0.000000\n",
       "50%           1.000000\n",
       "75%           8.000000\n",
       "max        5772.000000\n",
       "Name: OwnerUndeletedAnswerCountAtPostTime, dtype: float64"
      ]
     },
     "metadata": {},
     "output_type": "display_data"
    },
    {
     "name": "stdout",
     "output_type": "stream",
     "text": [
      "outlier_upper_bound 20.0\n",
      "num_outliers 21814\n"
     ]
    },
    {
     "data": {
      "image/png": "[encoded data removed]",
      "text/plain": [
       "<Figure size 640x480 with 1 Axes>"
      ]
     },
     "metadata": {},
     "output_type": "display_data"
    }
   ],
   "source": [
    "display(df.OwnerUndeletedAnswerCountAtPostTime.describe())\n",
    "upper_quartile = df.OwnerUndeletedAnswerCountAtPostTime.quantile(.75)\n",
    "lower_quartile = df.OwnerUndeletedAnswerCountAtPostTime.quantile(.25)\n",
    "iqr = upper_quartile - lower_quartile\n",
    "outlier_upper_bound = upper_quartile + 1.5 * (iqr)\n",
    "print('outlier_upper_bound',outlier_upper_bound)\n",
    "print('num_outliers', df.loc[df.OwnerUndeletedAnswerCountAtPostTime > outlier_upper_bound].shape[0])\n",
    "max_ = np.sqrt(df.OwnerUndeletedAnswerCountAtPostTime.max())\n",
    "df.OwnerUndeletedAnswerCountAtPostTime = (\n",
    "    df.OwnerUndeletedAnswerCountAtPostTime.map(lambda x: 1-((max_ - np.sqrt(x))/max_))\n",
    ")\n",
    "df.OwnerUndeletedAnswerCountAtPostTime.plot(kind='hist', bins=100);"
   ]
  },
  {
   "cell_type": "markdown",
   "metadata": {},
   "source": [
    "# Title"
   ]
  },
  {
   "cell_type": "code",
   "execution_count": 98,
   "metadata": {},
   "outputs": [
    {
     "data": {
      "text/plain": [
       "'introspection in obj c'"
      ]
     },
     "execution_count": 98,
     "metadata": {},
     "output_type": "execute_result"
    }
   ],
   "source": [
    "df.Title[100]"
   ]
  },
  {
   "cell_type": "markdown",
   "metadata": {},
   "source": [
    "# Body"
   ]
  },
  {
   "cell_type": "code",
   "execution_count": 117,
   "metadata": {},
   "outputs": [
    {
     "data": {
      "text/plain": [
       "['I am building a corpus of indexed sentences in different languages. I have a collection of Languages which have both an ObjectId and the ISO code as a key. Is it better to use a reference to the Language collection or store a key like \"en\" or \"fr\"?\\r\\n\\r\\nI suppose it\\'s a compromise between:\\r\\n\\r\\n - ease of referencing the Language\\r\\n - object in that collection\\r\\n - speed in doing queries where the sentence has a certain language\\r\\n - the size of the data on disk\\r\\n\\r\\nAny best practices that I should know of?',\n",
       " 'i create a xml document with JAXP and search a way to insert the schemalocation.\\r\\nAt the moment my application produces:\\r\\n\\r\\n    <?xml version=\"1.0\" encoding=\"UTF-8\"?>\\r\\n    <root>\\r\\n    ...\\r\\n    </root>\\r\\n\\r\\nBut i need:\\r\\n\\r\\n    <?xml version=\"1.0\" encoding=\"UTF-8\"?>\\r\\n    <root xmlns=\"namespaceURL\" \\r\\n    xmlns:xs=\"http://www.w3.org/2001/XMLSchema-instance\"\\r\\n    xs:schemaLocation=\"namespaceURL pathToMySchema.xsd\">\\r\\n    ...\\r\\n    </root>\\r\\n\\r\\nMy code:\\r\\n\\r\\n    StreamResult result = new StreamResult(writer);\\r\\n    Document doc = getDocument();\\r\\n\\r\\n    Transformer trans = transfac.newTransformer();\\r\\n    trans.setOutputProperty(OutputKeys.INDENT, \"yes\");\\r\\n    trans.setOutputProperty(OutputKeys.METHOD, \"xml\");\\r\\n    trans.setOutputProperty(OutputKeys.VERSION, \"1.0\");\\r\\n    trans.setOutputProperty(OutputKeys.ENCODING, \"UTF-8\");\\r\\n\\r\\n    DOMSource source = new DOMSource(depl.getAsElement(doc));\\r\\n    trans.transform(source, result);\\r\\n\\r\\n\\r\\nThanks for your time,  \\r\\nKasten',\n",
       " 'What are the adverse effects of having too many lookup tables in the database?\\r\\n\\r\\n I have to incorportate too many Enumerations, based on the applications. \\r\\n\\r\\nWhat would experts advice?',\n",
       " 'I am looking for the vb.net equivalent of this function: I have no experience of PHP but came across this code which apparently gives you a random image url from google images \\r\\n\\r\\n        function GetRandomImageURL($topic=\\'\\', $min=0, $max=100)\\r\\n    {\\r\\n      // get random image from Google\\r\\n      if ($topic==\\'\\') $topic=\\'image\\';\\r\\n      $ofs=mt_rand($min, $max);\\r\\n      $geturl=\\'http://www.google.ca/images?q=\\' . $topic . \\'&start=\\' . $ofs . \\'&gbv=1\\';\\r\\n      $data=file_get_contents($geturl);\\r\\n     \\r\\n      $f1=\\'<div id=\"center_col\">\\';\\r\\n      $f2=\\'<a href=\"/imgres?imgurl=\\';\\r\\n      $f3=\\'&amp;imgrefurl=\\';\\r\\n     \\r\\n      $pos1=strpos($data, $f1)+strlen($f1);\\r\\n      if ($pos1==FALSE) return FALSE;\\r\\n      $pos2=strpos($data, $f2, $pos1)+strlen($f2);\\r\\n      if ($pos2==FALSE) return FALSE;\\r\\n      $pos3=strpos($data, $f3, $pos2);\\r\\n      if ($pos3==FALSE) return FALSE;\\r\\n      return substr($data, $pos2, $pos3-$pos2);\\r\\n    }',\n",
       " 'With Spring-Data, you can use the @Document annotation to specify which collection to save the object to.  Say i have two classes, Student and Teacher, both persisted into the people collection.  When I execute the following code:\\r\\n\\r\\n    mongo.find(new Query(), Teacher.class);\\r\\n\\r\\nresult contains both Student and Teacher.  Looking in the data created by Spring-Data, each document contains a \"_class\" field which indicate which class it is persisted from.  \\r\\n\\r\\nThis is field not used in find as an filter to return only Teacher?  How do I query if I only want to return Teacher saved in the people collection?']"
      ]
     },
     "execution_count": 117,
     "metadata": {},
     "output_type": "execute_result"
    }
   ],
   "source": [
    "df.BodyMarkdown.head(5).to_list()"
   ]
  },
  {
   "cell_type": "markdown",
   "metadata": {},
   "source": [
    "I am building a corpus of indexed sentences in different languages. I have a collection of Languages which have both an ObjectId and the ISO code as a key. Is it better to use a reference to the Language collection or store a key like \"en\" or \"fr\"?\n",
    "\n",
    "I suppose it's a compromise between:\n",
    "\n",
    " - ease of referencing the Language\n",
    " - object in that collection\n",
    " - speed in doing queries where the sentence has a certain language\n",
    " - the size of the data on disk\n",
    "\n",
    "Any best practices that I should know of?"
   ]
  },
  {
   "cell_type": "markdown",
   "metadata": {},
   "source": [
    "i create a xml document with JAXP and search a way to insert the schemalocation.\n",
    "At the moment my application produces:\n",
    "\n",
    "    <?xml version=\"1.0\" encoding=\"UTF-8\"?>\n",
    "    <root>\n",
    "    ...\n",
    "    </root>\n",
    "\n",
    "But i need:\n",
    "\n",
    "    <?xml version=\"1.0\" encoding=\"UTF-8\"?>\n",
    "    <root xmlns=\"namespaceURL\" \n",
    "    xmlns:xs=\"http://www.w3.org/2001/XMLSchema-instance\"\n",
    "    xs:schemaLocation=\"namespaceURL pathToMySchema.xsd\">\n",
    "    ...\n",
    "    </root>\n",
    "\n",
    "My code:\n",
    "\n",
    "    StreamResult result = new StreamResult(writer);\n",
    "    Document doc = getDocument();\n",
    "\n",
    "    Transformer trans = transfac.newTransformer();\n",
    "    trans.setOutputProperty(OutputKeys.INDENT, \"yes\");\n",
    "    trans.setOutputProperty(OutputKeys.METHOD, \"xml\");\n",
    "    trans.setOutputProperty(OutputKeys.VERSION, \"1.0\");\n",
    "    trans.setOutputProperty(OutputKeys.ENCODING, \"UTF-8\");\n",
    "\n",
    "    DOMSource source = new DOMSource(depl.getAsElement(doc));\n",
    "    trans.transform(source, result);\n",
    "\n",
    "\n",
    "Thanks for your time,  \n",
    "Kasten"
   ]
  },
  {
   "cell_type": "markdown",
   "metadata": {},
   "source": [
    "I am looking for the vb.net equivalent of this function: I have no experience of PHP but came across this code which apparently gives you a random image url from google images \n",
    "\n",
    "        function GetRandomImageURL($topic='', $min=0, $max=100)\n",
    "    {\n",
    "      // get random image from Google\n",
    "      if ($topic=='') $topic='image';\n",
    "      $ofs=mt_rand($min, $max);\n",
    "      $geturl='http://www.google.ca/images?q=' . $topic . '&start=' . $ofs . '&gbv=1';\n",
    "      $data=file_get_contents($geturl);\n",
    "     \n",
    "      $f1='<div id=\"center_col\">';\n",
    "      $f2='<a href=\"/imgres?imgurl=';\n",
    "      $f3='&amp;imgrefurl=';\n",
    "     \n",
    "      $pos1=strpos($data, $f1)+strlen($f1);\n",
    "      if ($pos1==FALSE) return FALSE;\n",
    "      $pos2=strpos($data, $f2, $pos1)+strlen($f2);\n",
    "      if ($pos2==FALSE) return FALSE;\n",
    "      $pos3=strpos($data, $f3, $pos2);\n",
    "      if ($pos3==FALSE) return FALSE;\n",
    "      return substr($data, $pos2, $pos3-$pos2);\n",
    "    }"
   ]
  },
  {
   "attachments": {},
   "cell_type": "markdown",
   "metadata": {},
   "source": [
    "With Spring-Data, you can use the @Document annotation to specify which collection to save the object to.  Say i have two classes, Student and Teacher, both persisted into the people collection.  When I execute the following code:\n",
    "\n",
    "    mongo.find(new Query(), Teacher.class);\n",
    "\n",
    "result contains both Student and Teacher.  Looking in the data created by Spring-Data, each document contains a \"_class\" field which indicate which class it is persisted from.  \n",
    "\n",
    "This is field not used in find as an filter to return only Teacher?  How do I query if I only want to return Teacher saved in the people collection?"
   ]
  },
  {
   "attachments": {},
   "cell_type": "markdown",
   "metadata": {},
   "source": [
    "Hi All VB Script Gurus,\n",
    "\n",
    "I am new to VB script world.\n",
    "\n",
    "I need some help on creating new VB script for the text file changes:\n",
    "\n",
    "I am receiving below sample text file data and needs to modify (append data) and export to new text file.\n",
    "\n",
    "OP01AMS06902APECS 20110905154741 2 T.M.FINAP033.00120110905034752 (header portion of the text file needs to validated and removed while exporting to new file)\n",
    "6301405159509 0000000700 20110504 110.00 USD 0000077191 US Auto Fo US Auto Fo 100000 ABC Fort Worth TX 76137\n",
    "6301405159509 0009000015 20110726 200.00 USD 0000077897OL00000001Vamsi Vamsi vamsi house 123 \n",
    "CL99AMS06902APECS 20110905154741 2 T.M.FINAP033.00120110905034752 (trailer portion of the file needs to validated and removed while exporting to new file)\n",
    "\n",
    "And while exporting to new file I need to append constant records data in each single row.\n",
    "\n",
    "For instance for the first above record apart of the existing data I need to append 58 constant record data for reach row.\n",
    "\n",
    "000001(constant) 0000000 (constant) 6301405159509 0000000700 20110504 110.00 USD 0000077191 US Auto Fo US Auto Fo 100000 ABC Fort Worth TX 76137\n",
    "\n",
    "All constants are fixed values with specifc length.\n",
    "\n",
    "Any help or sample scripts will be greatly appreciated.\n",
    "\n",
    "Thanks\n",
    "Shakee"
   ]
  },
  {
   "cell_type": "markdown",
   "metadata": {},
   "source": []
  }
 ],
 "metadata": {
  "kernelspec": {
   "display_name": "tensorflow",
   "language": "python",
   "name": "python3"
  },
  "language_info": {
   "codemirror_mode": {
    "name": "ipython",
    "version": 3
   },
   "file_extension": ".py",
   "mimetype": "text/x-python",
   "name": "python",
   "nbconvert_exporter": "python",
   "pygments_lexer": "ipython3",
   "version": "3.10.9"
  },
  "orig_nbformat": 4
 },
 "nbformat": 4,
 "nbformat_minor": 2
}
